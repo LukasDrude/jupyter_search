{
 "cells": [
  {
   "cell_type": "markdown",
   "metadata": {},
   "source": [
    "Dependencies:\n",
    " - whoosh\n",
    " - yattag\n",
    " - hurry.filesize"
   ]
  },
  {
   "cell_type": "code",
   "execution_count": 12,
   "metadata": {
    "collapsed": false
   },
   "outputs": [],
   "source": [
    "import nbformat"
   ]
  },
  {
   "cell_type": "markdown",
   "metadata": {},
   "source": [
    "nbformat doc: http://nbformat.readthedocs.org/en/latest/api.html"
   ]
  },
  {
   "cell_type": "code",
   "execution_count": 84,
   "metadata": {
    "collapsed": true
   },
   "outputs": [],
   "source": [
    "from whoosh.index import create_in\n",
    "from whoosh.fields import *\n",
    "from whoosh.qparser import QueryParser"
   ]
  },
  {
   "cell_type": "markdown",
   "metadata": {},
   "source": [
    "whoosh doc: http://whoosh.readthedocs.org/en/latest/quickstart.html"
   ]
  },
  {
   "cell_type": "code",
   "execution_count": 176,
   "metadata": {
    "collapsed": true
   },
   "outputs": [],
   "source": [
    "import os, fnmatch\n",
    "import stat\n",
    "import datetime"
   ]
  },
  {
   "cell_type": "code",
   "execution_count": 582,
   "metadata": {
    "collapsed": false
   },
   "outputs": [],
   "source": [
    "schema = Schema(\n",
    "    title=TEXT(stored=True),\n",
    "    markdown=TEXT(stored=True),\n",
    "    code=TEXT(stored=True),\n",
    "    path=ID(stored=True),\n",
    "    user=KEYWORD(stored=True),\n",
    "    tags=KEYWORD(stored=True),\n",
    "    modified=DATETIME(stored=True),\n",
    "    accessed=DATETIME(stored=True),\n",
    "    size=NUMERIC(stored=True)\n",
    ")"
   ]
  },
  {
   "cell_type": "code",
   "execution_count": 583,
   "metadata": {
    "collapsed": false
   },
   "outputs": [],
   "source": [
    "ix = create_in(\"indexdir\", schema)\n",
    "writer = ix.writer()"
   ]
  },
  {
   "cell_type": "code",
   "execution_count": 584,
   "metadata": {
    "collapsed": false
   },
   "outputs": [],
   "source": [
    "def get_file_info(path):\n",
    "    info = dict()\n",
    "    try:\n",
    "        st = os.stat(path)\n",
    "        info['uid'] = st.st_uid\n",
    "        info['gid'] = st.st_gid\n",
    "        info['size'] = st.st_size\n",
    "        info['atime'] = st.st_atime\n",
    "        info['mtime'] = st.st_mtime\n",
    "        info['ctime'] = st.st_ctime\n",
    "    except IOError:\n",
    "        print(\"Failed to get information about\", file)\n",
    "    else:\n",
    "        try:\n",
    "            import pwd # not available on all platforms\n",
    "            userinfo = pwd.getpwuid(st[stat.ST_UID])\n",
    "        except (ImportError, KeyError):\n",
    "            print(\"Failed to get the owner name for\", file)\n",
    "        else:\n",
    "            info['owner'] = userinfo.pw_name\n",
    "            info['complete_owner'] = userinfo.pw_gecos\n",
    "    return info"
   ]
  },
  {
   "cell_type": "code",
   "execution_count": 585,
   "metadata": {
    "collapsed": false
   },
   "outputs": [],
   "source": [
    "def add_notebook(writer, path):\n",
    "    info = get_file_info(path)\n",
    "    note = nbformat.read(path, nbformat.NO_CONVERT)\n",
    "    \n",
    "    markdown = ''\n",
    "    code = ''\n",
    "    tags = ''\n",
    "\n",
    "    for cell in note['cells']:\n",
    "        if cell['cell_type'] == 'markdown':\n",
    "            markdown += cell['source']\n",
    "            markdown += '\\n\\n'\n",
    "        if cell['cell_type'] == 'code':\n",
    "            code += cell['source']\n",
    "            code += '\\n\\n'\n",
    "    \n",
    "    writer.add_document(\n",
    "        title=''.join(path.split('/')[-1].split('.')[:-1]),\n",
    "        path=path,\n",
    "        markdown=markdown,\n",
    "        code=code,\n",
    "        user=info['owner'],\n",
    "        tags=tags,\n",
    "        modified=datetime.datetime.fromtimestamp(info['mtime']),\n",
    "        accessed=datetime.datetime.fromtimestamp(info['atime']),\n",
    "        size=info['size']\n",
    "    )"
   ]
  },
  {
   "cell_type": "code",
   "execution_count": 586,
   "metadata": {
    "collapsed": false
   },
   "outputs": [],
   "source": [
    "def find(path, pattern, antipattern):\n",
    "    result = []\n",
    "    for root, dirs, files in os.walk(path):\n",
    "        for name in files:\n",
    "            if fnmatch.fnmatch(name, pattern) and not fnmatch.fnmatch(name, antipattern):\n",
    "                result.append(os.path.join(root, name))\n",
    "    return result\n",
    "file_path = find('/Users/lukas/Projects', '*.ipynb', '*.ipynb_checkpoints')"
   ]
  },
  {
   "cell_type": "code",
   "execution_count": 587,
   "metadata": {
    "collapsed": false
   },
   "outputs": [],
   "source": [
    "for path in file_path:\n",
    "    add_notebook(writer, path)"
   ]
  },
  {
   "cell_type": "code",
   "execution_count": 588,
   "metadata": {
    "collapsed": true
   },
   "outputs": [],
   "source": [
    "writer.commit()"
   ]
  },
  {
   "cell_type": "code",
   "execution_count": 589,
   "metadata": {
    "collapsed": false
   },
   "outputs": [],
   "source": [
    "from IPython.html import widgets\n",
    "from IPython.display import display, clear_output\n",
    "from IPython.core.display import HTML\n",
    "from yattag import Doc\n",
    "from hurry.filesize import size"
   ]
  },
  {
   "cell_type": "code",
   "execution_count": 590,
   "metadata": {
    "collapsed": false
   },
   "outputs": [
    {
     "data": {
      "text/html": [
       "\n",
       "<style>\n",
       ".rendered_html tr, .rendered_html th, .rendered_html td {\n",
       "border-collapse: collapse;\n",
       "margin: 1em 2em;\n",
       "}\n",
       ".rendered_html table {\n",
       "margin-left: auto;\n",
       "margin-right: auto;\n",
       "border: none;\n",
       "border-collapse: collapse;\n",
       "}\n",
       "</style>\n"
      ],
      "text/plain": [
       "<IPython.core.display.HTML object>"
      ]
     },
     "metadata": {},
     "output_type": "display_data"
    }
   ],
   "source": [
    "display(HTML('''\n",
    "<style>\n",
    ".rendered_html tr, .rendered_html th, .rendered_html td {\n",
    "border-collapse: collapse;\n",
    "margin: 1em 2em;\n",
    "}\n",
    ".rendered_html table {\n",
    "margin-left: auto;\n",
    "margin-right: auto;\n",
    "border: none;\n",
    "border-collapse: collapse;\n",
    "}\n",
    "</style>\n",
    "'''\n",
    "))"
   ]
  },
  {
   "cell_type": "markdown",
   "metadata": {},
   "source": [
    "widget discussion: http://stackoverflow.com/questions/26352555/how-does-one-get-widget-values-with-a-button-in-ipython"
   ]
  },
  {
   "cell_type": "code",
   "execution_count": 591,
   "metadata": {
    "collapsed": false
   },
   "outputs": [],
   "source": [
    "def format_output(results):\n",
    "    doc, tag, text = Doc().tagtext()\n",
    "    doc.text('Number of hits: {}\\n'.format(len(results)))\n",
    "    with tag('table', klass='table table-striped'):\n",
    "        with tag('thead'):\n",
    "            with tag('tr'):\n",
    "                with tag('th'):\n",
    "                    doc.text('#')\n",
    "                with tag('th'):\n",
    "                    doc.text('Title')\n",
    "        with tag('tbody'):\n",
    "            for idx, result in enumerate(results):\n",
    "                with tag('tr'):\n",
    "                    with tag('td'):\n",
    "                        doc.text(idx)\n",
    "                    with tag('td'):\n",
    "                        with tag('table'):\n",
    "                            with tag('tbody'):\n",
    "                                with tag('tr'):\n",
    "                                    with tag('td', klass='col-md-6'):\n",
    "                                        with tag('a', href=result['path']):\n",
    "                                            doc.text(result['title'])\n",
    "                                    with tag('td', klass='col-md-6'):\n",
    "                                        doc.text(' asdf({})'.format(result['user']))\n",
    "    display(HTML(doc.getvalue()))"
   ]
  },
  {
   "cell_type": "code",
   "execution_count": 592,
   "metadata": {
    "collapsed": false
   },
   "outputs": [],
   "source": [
    "import whoosh.highlight as highlight\n",
    "class BracketFormatter(highlight.Formatter):\n",
    "    def format_token(self, text, token, replace=False):\n",
    "        # Use the get_text function to get the text corresponding to the\n",
    "        # token\n",
    "        tokentext = highlight.get_text(text, token, replace=True)\n",
    "\n",
    "        # Return the text as you want it to appear in the highlighted\n",
    "        # string\n",
    "        return \"<mark>%s</mark>\" % tokentext"
   ]
  },
  {
   "cell_type": "code",
   "execution_count": 593,
   "metadata": {
    "collapsed": false
   },
   "outputs": [],
   "source": [
    "def format_output(results):\n",
    "    doc, tag, text = Doc().tagtext()\n",
    "    doc.text('Number of hits: {}\\n'.format(len(results)))\n",
    "    for idx, result in enumerate(results):\n",
    "        with tag('div', klass='row'):\n",
    "            with tag('div', klass='col-md-1'):\n",
    "                doc.text(idx)\n",
    "            with tag('div', klass='col-md-11'):\n",
    "                with tag('strong'):\n",
    "                    doc.text(result['title'])\n",
    "        with tag('div', klass='row'):\n",
    "            with tag('div', klass='col-md-1'):\n",
    "                pass\n",
    "            with tag('div', klass='col-md-11'):\n",
    "                with tag('a'):\n",
    "                    doc.text(result['path'])\n",
    "        with tag('div', klass='row'):\n",
    "            with tag('div', klass='col-md-1'):\n",
    "                pass\n",
    "            with tag('div', klass='col-md-2'):\n",
    "                doc.text('User: {}'.format(result['user']))\n",
    "            with tag('div', klass='col-md-2'):\n",
    "                doc.text('Size: {}B'.format(size(result['size'])))\n",
    "            with tag('div', klass='col-md-7'):\n",
    "                doc.text('Modified: {}'.format(result['modified']))\n",
    "        with tag('div', klass='row'):\n",
    "            with tag('div', klass='col-md-1'):\n",
    "                pass\n",
    "            with tag('div', klass='col-md-11'):\n",
    "                doc.asis(result.highlights('markdown'))\n",
    "        with tag('br'):\n",
    "            pass\n",
    "    display(HTML(doc.getvalue()))"
   ]
  },
  {
   "cell_type": "code",
   "execution_count": 594,
   "metadata": {
    "collapsed": false
   },
   "outputs": [],
   "source": [
    "def search(query_string, field='markdown'):\n",
    "    limit = 200\n",
    "    with ix.searcher() as searcher:\n",
    "        query = QueryParser(field, ix.schema).parse(query_string)\n",
    "        results = searcher.search(query, limit=limit)\n",
    "        brf = BracketFormatter()\n",
    "        results.formatter = brf\n",
    "        results.fragmenter.maxchars = 300\n",
    "        results.fragmenter.surround = 50\n",
    "        format_output(results)"
   ]
  },
  {
   "cell_type": "code",
   "execution_count": 598,
   "metadata": {
    "collapsed": false,
    "scrolled": false
   },
   "outputs": [
    {
     "data": {
      "text/html": [
       "Number of hits: 7\n",
       "<div class=\"row\"><div class=\"col-md-1\">0</div><div class=\"col-md-11\"><strong>2015-09-01 Complex derivatives</strong></div></div><div class=\"row\"><div class=\"col-md-1\"></div><div class=\"col-md-11\"><a>/Users/lukas/Projects/notes/2015-09-01 Complex derivatives.ipynb</a></div></div><div class=\"row\"><div class=\"col-md-1\"></div><div class=\"col-md-2\">User: lukas</div><div class=\"col-md-2\">Size: 4KB</div><div class=\"col-md-7\">Modified: 2015-09-02 08:32:30</div></div><div class=\"row\"><div class=\"col-md-1\"></div><div class=\"col-md-11\">are satisfied, the above equations yield an <mark>exact</mark> derviative.\n",
       "\n",
       "If not, the above equations contradict each...when far away from that critical point?\n",
       "\n",
       "## Simple <mark>example</mark>\n",
       "\n",
       "\\begin{align}\n",
       "f(z) &= |z|^2 &\n",
       "u(x, y) &= x^2 + y^2 &\n",
       "v(x, y) &= 0 &\n",
       "\\frac{\\partial u}{\\partial...magnitudes and to compare phases. These are <mark>examples</mark>:\n",
       " - Exponential distribution to compare magnitudes</div></div><br></br><div class=\"row\"><div class=\"col-md-1\">1</div><div class=\"col-md-11\"><strong>2015-10-01 First complex Chainer tests</strong></div></div><div class=\"row\"><div class=\"col-md-1\"></div><div class=\"col-md-11\"><a>/Users/lukas/Projects/notes/2015-10-01 First complex Chainer tests.ipynb</a></div></div><div class=\"row\"><div class=\"col-md-1\"></div><div class=\"col-md-2\">User: lukas</div><div class=\"col-md-2\">Size: 105KB</div><div class=\"col-md-7\">Modified: 2015-10-02 10:44:27</div></div><div class=\"row\"><div class=\"col-md-1\"></div><div class=\"col-md-11\"><mark>example</mark> functions to generate training data\n",
       "\n",
       "# Define network architecture\n",
       "\n",
       "# Training\n",
       "\n",
       "Until now, just works with vanilla stochastic</div></div><br></br><div class=\"row\"><div class=\"col-md-1\">2</div><div class=\"col-md-11\"><strong>2015-09-01 Complex derivatives-checkpoint</strong></div></div><div class=\"row\"><div class=\"col-md-1\"></div><div class=\"col-md-11\"><a>/Users/lukas/Projects/notes/.ipynb_checkpoints/2015-09-01 Complex derivatives-checkpoint.ipynb</a></div></div><div class=\"row\"><div class=\"col-md-1\"></div><div class=\"col-md-2\">User: lukas</div><div class=\"col-md-2\">Size: 4KB</div><div class=\"col-md-7\">Modified: 2015-09-02 08:32:30</div></div><div class=\"row\"><div class=\"col-md-1\"></div><div class=\"col-md-11\">are satisfied, the above equations yield an <mark>exact</mark> derviative.\n",
       "\n",
       "If not, the above equations contradict each...when far away from that critical point?\n",
       "\n",
       "## Simple <mark>example</mark>\n",
       "\n",
       "\\begin{align}\n",
       "f(z) &= |z|^2 &\n",
       "u(x, y) &= x^2 + y^2 &\n",
       "v(x, y) &= 0 &\n",
       "\\frac{\\partial u}{\\partial...magnitudes and to compare phases. These are <mark>examples</mark>:\n",
       " - Exponential distribution to compare magnitudes</div></div><br></br><div class=\"row\"><div class=\"col-md-1\">3</div><div class=\"col-md-11\"><strong>2015-10-01 First complex Chainer tests-checkpoint</strong></div></div><div class=\"row\"><div class=\"col-md-1\"></div><div class=\"col-md-11\"><a>/Users/lukas/Projects/notes/.ipynb_checkpoints/2015-10-01 First complex Chainer tests-checkpoint.ipynb</a></div></div><div class=\"row\"><div class=\"col-md-1\"></div><div class=\"col-md-2\">User: lukas</div><div class=\"col-md-2\">Size: 105KB</div><div class=\"col-md-7\">Modified: 2015-10-02 10:44:27</div></div><div class=\"row\"><div class=\"col-md-1\"></div><div class=\"col-md-11\"><mark>example</mark> functions to generate training data\n",
       "\n",
       "# Define network architecture\n",
       "\n",
       "# Training\n",
       "\n",
       "Until now, just works with vanilla stochastic</div></div><br></br><div class=\"row\"><div class=\"col-md-1\">4</div><div class=\"col-md-11\"><strong>Einsum</strong></div></div><div class=\"row\"><div class=\"col-md-1\"></div><div class=\"col-md-11\"><a>/Users/lukas/Projects/nt_notebooks/basics/Einsum.ipynb</a></div></div><div class=\"row\"><div class=\"col-md-1\"></div><div class=\"col-md-2\">User: lukas</div><div class=\"col-md-2\">Size: 11KB</div><div class=\"col-md-7\">Modified: 2015-10-02 10:43:56</div></div><div class=\"row\"><div class=\"col-md-1\"></div><div class=\"col-md-11\">Einsum <mark>examples</mark> \n",
       "\n",
       "- There are some <mark>examples</mark> here: http://docs.scipy.org/doc/numpy/reference/generated</div></div><br></br><div class=\"row\"><div class=\"col-md-1\">5</div><div class=\"col-md-11\"><strong>MNIST_Latent_Autoencoder</strong></div></div><div class=\"row\"><div class=\"col-md-1\"></div><div class=\"col-md-11\"><a>/Users/lukas/Projects/nt_notebooks/toolbox_examples/nn/MNIST_Latent_Autoencoder.ipynb</a></div></div><div class=\"row\"><div class=\"col-md-1\"></div><div class=\"col-md-2\">User: lukas</div><div class=\"col-md-2\">Size: 604KB</div><div class=\"col-md-7\">Modified: 2015-10-02 10:43:56</div></div><div class=\"row\"><div class=\"col-md-1\"></div><div class=\"col-md-11\">factors of variation in deep networks\n",
       "\n",
       "This is an <mark>example</mark> of how to implement the autoencoder architecture from...and output data\n",
       "- plot cost evolution and one test <mark>example</mark>\n",
       "\n",
       "## Define function to plot input images, output images</div></div><br></br><div class=\"row\"><div class=\"col-md-1\">6</div><div class=\"col-md-11\"><strong>MNIST_Latent_Autoencoder</strong></div></div><div class=\"row\"><div class=\"col-md-1\"></div><div class=\"col-md-11\"><a>/Users/lukas/Projects/toolbox/nt/nn/examples/MNIST_Latent_Autoencoder.ipynb</a></div></div><div class=\"row\"><div class=\"col-md-1\"></div><div class=\"col-md-2\">User: lukas</div><div class=\"col-md-2\">Size: 18KB</div><div class=\"col-md-7\">Modified: 2015-08-20 08:46:05</div></div><div class=\"row\"><div class=\"col-md-1\"></div><div class=\"col-md-11\">factors of variation in deep networks\n",
       "\n",
       "This is an <mark>example</mark> of how to implement the autoencoder architecture from...and output data\n",
       "- plot cost evolution and one test <mark>example</mark>\n",
       "\n",
       "## Define function to plot input images, output images</div></div><br></br>"
      ],
      "text/plain": [
       "<IPython.core.display.HTML object>"
      ]
     },
     "metadata": {},
     "output_type": "display_data"
    }
   ],
   "source": [
    "def button_callback(btn):\n",
    "    clear_output()\n",
    "    search(query_string=container.children[0].value)\n",
    "\n",
    "button = widgets.ButtonWidget(description=\"Click me!\")\n",
    "button.on_click(button_callback)\n",
    "text_box = widgets.Text(value='exa*')\n",
    "container = widgets.HBox(children=(text_box, button))\n",
    "display(container)"
   ]
  },
  {
   "cell_type": "code",
   "execution_count": null,
   "metadata": {
    "collapsed": true
   },
   "outputs": [],
   "source": []
  }
 ],
 "metadata": {
  "kernelspec": {
   "display_name": "Python 3",
   "language": "python",
   "name": "python3"
  },
  "language_info": {
   "codemirror_mode": {
    "name": "ipython",
    "version": 3
   },
   "file_extension": ".py",
   "mimetype": "text/x-python",
   "name": "python",
   "nbconvert_exporter": "python",
   "pygments_lexer": "ipython3",
   "version": "3.3.5"
  }
 },
 "nbformat": 4,
 "nbformat_minor": 0
}
